{
 "cells": [
  {
   "cell_type": "code",
   "execution_count": 5,
   "id": "ea7bc745",
   "metadata": {},
   "outputs": [
    {
     "name": "stderr",
     "output_type": "stream",
     "text": [
      "C:\\Users\\totoz\\AppData\\Local\\lib\\site-packages\\PIL\\TiffImagePlugin.py:949: UserWarning: Truncated File Read\n",
      "  warnings.warn(str(msg))\n"
     ]
    }
   ],
   "source": [
    "from PIL import Image, UnidentifiedImageError\n",
    "import os\n",
    "from tensorflow.keras import layers, models\n",
    "\n",
    "base_dir =\"C:\\\\Users\\\\totoz\\\\Documents\\\\CS projects\\\\python\\\\PetImages\"  \n",
    "\n",
    "for class_dir in os.listdir(base_dir):\n",
    "    class_path = os.path.join(base_dir, class_dir)\n",
    "    for fname in os.listdir(class_path):\n",
    "        fpath = os.path.join(class_path, fname)\n",
    "        try:\n",
    "            img = Image.open(fpath)\n",
    "            img.verify()  \n",
    "        except (UnidentifiedImageError, OSError):\n",
    "            print(f\"Removing invalid image: {fpath}\")\n",
    "            os.remove(fpath)\n"
   ]
  },
  {
   "cell_type": "code",
   "execution_count": 6,
   "id": "765477fd",
   "metadata": {},
   "outputs": [
    {
     "name": "stdout",
     "output_type": "stream",
     "text": [
      "Found 29229 images belonging to 7 classes.\n",
      "Found 7304 images belonging to 7 classes.\n"
     ]
    }
   ],
   "source": [
    "from tensorflow.keras.preprocessing.image import ImageDataGenerator\n",
    "\n",
    "datagen = ImageDataGenerator(rescale=1./255, validation_split=0.2)\n",
    "\n",
    "train_data = datagen.flow_from_directory(\n",
    "    \"C:\\\\Users\\\\totoz\\\\Documents\\\\CS projects\\\\python\\\\PetImages\",\n",
    "    target_size=(150, 150),\n",
    "    batch_size=32,\n",
    "    class_mode='categorical',  \n",
    "    subset='training',\n",
    "    shuffle=True\n",
    ")\n",
    "\n",
    "val_data = datagen.flow_from_directory(\n",
    "    \"C:\\\\Users\\\\totoz\\\\Documents\\\\CS projects\\\\python\\\\PetImages\",\n",
    "    target_size=(150, 150),\n",
    "    batch_size=32,\n",
    "    class_mode='categorical',\n",
    "    subset='validation',\n",
    "    shuffle=False\n",
    ")\n"
   ]
  },
  {
   "cell_type": "code",
   "execution_count": 3,
   "id": "b16808fc",
   "metadata": {},
   "outputs": [],
   "source": [
    "\n",
    "model = models.Sequential([\n",
    "    layers.Conv2D(32, (3, 3), activation='relu', input_shape=(150, 150, 3)),\n",
    "    layers.MaxPooling2D(2, 2),    \n",
    "    \n",
    "    layers.Conv2D(64, (3, 3), activation='relu'),\n",
    "    layers.MaxPooling2D(2, 2),\n",
    "\n",
    "    layers.Conv2D(128, (3, 3), activation='relu'),\n",
    "    layers.MaxPooling2D(2, 2),\n",
    "    \n",
    "    layers.Flatten(),\n",
    "    layers.Dense(128, activation='relu'),\n",
    "    layers.Dense(7, activation='softmax')  \n",
    "])\n"
   ]
  },
  {
   "cell_type": "code",
   "execution_count": null,
   "id": "d1f5a074",
   "metadata": {},
   "outputs": [],
   "source": [
    "from tensorflow.keras.callbacks import EarlyStopping\n",
    "\n",
    "early_stop = EarlyStopping(\n",
    "    monitor='val_loss',        \n",
    "    patience=3,                \n",
    "    restore_best_weights=True \n",
    "\n",
    "history = model.fit(\n",
    "    train_data,\n",
    "    validation_data=val_data,\n",
    "    epochs=100,                \n",
    "    callbacks=[early_stop]                      \n",
    ")\n"
   ]
  },
  {
   "cell_type": "code",
   "execution_count": 4,
   "id": "2d7f6ca5",
   "metadata": {},
   "outputs": [
    {
     "name": "stdout",
     "output_type": "stream",
     "text": [
      "Epoch 1/10\n",
      "823/914 [==========================>...] - ETA: 36s - loss: 0.6314 - accuracy: 0.7186"
     ]
    },
    {
     "name": "stderr",
     "output_type": "stream",
     "text": [
      "C:\\Users\\totoz\\AppData\\Local\\lib\\site-packages\\PIL\\TiffImagePlugin.py:949: UserWarning: Truncated File Read\n",
      "  warnings.warn(str(msg))\n"
     ]
    },
    {
     "name": "stdout",
     "output_type": "stream",
     "text": [
      "914/914 [==============================] - 392s 428ms/step - loss: 0.6163 - accuracy: 0.7259 - val_loss: 0.4176 - val_accuracy: 0.8226\n",
      "Epoch 2/10\n",
      "914/914 [==============================] - 398s 435ms/step - loss: 0.3778 - accuracy: 0.8393 - val_loss: 0.3657 - val_accuracy: 0.8443\n",
      "Epoch 3/10\n",
      "914/914 [==============================] - 406s 444ms/step - loss: 0.2920 - accuracy: 0.8764 - val_loss: 0.3513 - val_accuracy: 0.8557\n",
      "Epoch 4/10\n",
      "914/914 [==============================] - 402s 440ms/step - loss: 0.2134 - accuracy: 0.9116 - val_loss: 0.3471 - val_accuracy: 0.8605\n",
      "Epoch 5/10\n",
      "914/914 [==============================] - 401s 439ms/step - loss: 0.1368 - accuracy: 0.9466 - val_loss: 0.4494 - val_accuracy: 0.8620\n",
      "Epoch 6/10\n",
      "914/914 [==============================] - 408s 446ms/step - loss: 0.0842 - accuracy: 0.9686 - val_loss: 0.5545 - val_accuracy: 0.8508\n",
      "Epoch 7/10\n",
      "914/914 [==============================] - 415s 454ms/step - loss: 0.0561 - accuracy: 0.9801 - val_loss: 0.6130 - val_accuracy: 0.8498\n",
      "Epoch 8/10\n",
      "914/914 [==============================] - 409s 448ms/step - loss: 0.0446 - accuracy: 0.9842 - val_loss: 0.6550 - val_accuracy: 0.8538\n",
      "Epoch 9/10\n",
      "914/914 [==============================] - 408s 446ms/step - loss: 0.0442 - accuracy: 0.9851 - val_loss: 0.7854 - val_accuracy: 0.8479\n",
      "Epoch 10/10\n",
      "914/914 [==============================] - 406s 444ms/step - loss: 0.0338 - accuracy: 0.9888 - val_loss: 0.7501 - val_accuracy: 0.8535\n"
     ]
    }
   ],
   "source": [
    "model.compile(optimizer='adam',\n",
    "              loss='categorical_crossentropy',\n",
    "              metrics=['accuracy'])\n",
    "\n",
    "history = model.fit(\n",
    "    train_data,\n",
    "    epochs=10,\n",
    "    validation_data=val_data\n",
    ")"
   ]
  },
  {
   "cell_type": "code",
   "execution_count": 6,
   "id": "3a80ef1e",
   "metadata": {},
   "outputs": [],
   "source": [
    "model.save(\"C:\\\\Users\\\\totoz\\\\Documents\\\\CS projects\\\\python\\\\multi_classifier.keras\")  "
   ]
  },
  {
   "cell_type": "code",
   "execution_count": 2,
   "id": "0b7ab77e",
   "metadata": {},
   "outputs": [],
   "source": [
    "import tensorflow as tf\n",
    "\n",
    "loaded_model = tf.keras.models.load_model(\"C:\\\\Users\\\\totoz\\\\Documents\\\\CS projects\\\\python\\\\multi_classifier.keras\")"
   ]
  },
  {
   "cell_type": "code",
   "execution_count": 7,
   "id": "34ae1a10",
   "metadata": {},
   "outputs": [
    {
     "name": "stdout",
     "output_type": "stream",
     "text": [
      "['Car', 'Cat', 'Dog', 'Horse', 'House', 'Panda', 'Truck']\n"
     ]
    }
   ],
   "source": [
    "class_labels = list(train_data.class_indices.keys())\n",
    "print(class_labels)\n"
   ]
  },
  {
   "cell_type": "code",
   "execution_count": 18,
   "id": "a72e2e20",
   "metadata": {},
   "outputs": [
    {
     "name": "stdout",
     "output_type": "stream",
     "text": [
      "1/1 [==============================] - 0s 38ms/step\n",
      "Predicted: Car\n"
     ]
    }
   ],
   "source": [
    "import numpy as np\n",
    "from tensorflow.keras.utils import load_img, img_to_array\n",
    "\n",
    "img = load_img(\"C:\\\\Users\\\\totoz\\\\Downloads\\\\photo-1542362567-b07e54358753.jpg\", target_size=(150, 150))\n",
    "img_array = img_to_array(img) / 255.0\n",
    "img_array = np.expand_dims(img_array, axis=0)\n",
    "\n",
    "pred = loaded_model.predict(img_array)\n",
    "predicted_index = np.argmax(pred)\n",
    "print(f'Predicted: {class_labels[predicted_index]}')"
   ]
  },
  {
   "cell_type": "code",
   "execution_count": 12,
   "id": "7968187c",
   "metadata": {},
   "outputs": [
    {
     "ename": "NameError",
     "evalue": "name 'history' is not defined",
     "output_type": "error",
     "traceback": [
      "\u001b[1;31m---------------------------------------------------------------------------\u001b[0m",
      "\u001b[1;31mNameError\u001b[0m                                 Traceback (most recent call last)",
      "Cell \u001b[1;32mIn[12], line 3\u001b[0m\n\u001b[0;32m      1\u001b[0m \u001b[38;5;28;01mimport\u001b[39;00m \u001b[38;5;21;01mmatplotlib\u001b[39;00m\u001b[38;5;21;01m.\u001b[39;00m\u001b[38;5;21;01mpyplot\u001b[39;00m \u001b[38;5;28;01mas\u001b[39;00m \u001b[38;5;21;01mplt\u001b[39;00m\n\u001b[1;32m----> 3\u001b[0m acc \u001b[38;5;241m=\u001b[39m \u001b[43mhistory\u001b[49m\u001b[38;5;241m.\u001b[39mhistory[\u001b[38;5;124m'\u001b[39m\u001b[38;5;124maccuracy\u001b[39m\u001b[38;5;124m'\u001b[39m]\n\u001b[0;32m      4\u001b[0m val_acc \u001b[38;5;241m=\u001b[39m history\u001b[38;5;241m.\u001b[39mhistory[\u001b[38;5;124m'\u001b[39m\u001b[38;5;124mval_accuracy\u001b[39m\u001b[38;5;124m'\u001b[39m]\n\u001b[0;32m      5\u001b[0m loss \u001b[38;5;241m=\u001b[39m history\u001b[38;5;241m.\u001b[39mhistory[\u001b[38;5;124m'\u001b[39m\u001b[38;5;124mloss\u001b[39m\u001b[38;5;124m'\u001b[39m]\n",
      "\u001b[1;31mNameError\u001b[0m: name 'history' is not defined"
     ]
    }
   ],
   "source": [
    "import matplotlib.pyplot as plt\n",
    "\n",
    "acc = history.history['accuracy']\n",
    "val_acc = history.history['val_accuracy']\n",
    "loss = history.history['loss']\n",
    "val_loss = history.history['val_loss']\n",
    "epochs_range = range(len(acc))\n",
    "\n",
    "plt.figure(figsize=(12, 5))\n",
    "\n",
    "plt.subplot(1, 2, 1)\n",
    "plt.plot(epochs_range, acc, label='Training Accuracy')\n",
    "plt.plot(epochs_range, val_acc, label='Validation Accuracy')\n",
    "plt.legend(loc='lower right')\n",
    "plt.title('Accuracy')\n",
    "\n",
    "plt.subplot(1, 2, 2)\n",
    "plt.plot(epochs_range, loss, label='Training Loss')\n",
    "plt.plot(epochs_range, val_loss, label='Validation Loss')\n",
    "plt.legend(loc='upper right')\n",
    "plt.title('Loss')\n",
    "\n",
    "plt.show()\n"
   ]
  }
 ],
 "metadata": {
  "kernelspec": {
   "display_name": "Python 3 (ipykernel)",
   "language": "python",
   "name": "python3"
  },
  "language_info": {
   "codemirror_mode": {
    "name": "ipython",
    "version": 3
   },
   "file_extension": ".py",
   "mimetype": "text/x-python",
   "name": "python",
   "nbconvert_exporter": "python",
   "pygments_lexer": "ipython3",
   "version": "3.10.11"
  }
 },
 "nbformat": 4,
 "nbformat_minor": 5
}
